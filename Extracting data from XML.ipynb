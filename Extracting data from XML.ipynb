{
 "cells": [
  {
   "cell_type": "code",
   "execution_count": 8,
   "metadata": {},
   "outputs": [
    {
     "name": "stdout",
     "output_type": "stream",
     "text": [
      "Enter url:  http://py4e-data.dr-chuck.net/comments_732857.xml\n",
      "Count: 50\n",
      "Sum: 2551\n"
     ]
    }
   ],
   "source": [
    "import urllib.request, urllib.parse, urllib.error\n",
    "import xml.etree.ElementTree as ET\n",
    "import ssl\n",
    "\n",
    "url = input(\"Enter url: \")\n",
    "uh = urllib.request.urlopen(url, context=ctx)\n",
    "data = uh.read()\n",
    "\n",
    "tree = ET.fromstring(data)\n",
    "lst = tree.findall('comments/comment')\n",
    "count = 0\n",
    "sum = 0\n",
    "\n",
    "for item in lst:\n",
    "    num = int(item.find('count').text)\n",
    "    count = count + 1\n",
    "    sum = sum + num\n",
    "\n",
    "print(\"Count:\", count)\n",
    "print(\"Sum:\", sum)"
   ]
  },
  {
   "cell_type": "code",
   "execution_count": null,
   "metadata": {},
   "outputs": [],
   "source": []
  },
  {
   "cell_type": "code",
   "execution_count": null,
   "metadata": {},
   "outputs": [],
   "source": []
  },
  {
   "cell_type": "code",
   "execution_count": null,
   "metadata": {},
   "outputs": [],
   "source": []
  }
 ],
 "metadata": {
  "kernelspec": {
   "display_name": "Python 3",
   "language": "python",
   "name": "python3"
  },
  "language_info": {
   "codemirror_mode": {
    "name": "ipython",
    "version": 3
   },
   "file_extension": ".py",
   "mimetype": "text/x-python",
   "name": "python",
   "nbconvert_exporter": "python",
   "pygments_lexer": "ipython3",
   "version": "3.7.6"
  }
 },
 "nbformat": 4,
 "nbformat_minor": 4
}
